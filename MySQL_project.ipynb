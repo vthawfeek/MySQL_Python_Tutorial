{
 "cells": [
  {
   "cell_type": "code",
   "execution_count": null,
   "metadata": {},
   "outputs": [],
   "source": [
    "!pip install --upgrade pip"
   ]
  },
  {
   "cell_type": "code",
   "execution_count": null,
   "metadata": {},
   "outputs": [],
   "source": [
    "!pip install mysql-connector-python"
   ]
  },
  {
   "cell_type": "markdown",
   "metadata": {},
   "source": [
    "This script is based on the YouTube crash course by Traversy Media [here](https://www.youtube.com/watch?v=BHwgnGEhYG8). Results of post each operation can be cross-checked in the MySQL Workbench GUI."
   ]
  },
  {
   "cell_type": "code",
   "execution_count": 11,
   "metadata": {},
   "outputs": [],
   "source": [
    "# database cell\n",
    "\n",
    "import mysql.connector\n",
    "\n",
    "config = {\n",
    "    'user': 'root',\n",
    "    'password': 'root@123',\n",
    "    'host': 'localhost'\n",
    "}\n",
    "\n",
    "db = mysql.connector.connect(**config)\n",
    "cursor = db.cursor()"
   ]
  },
  {
   "cell_type": "code",
   "execution_count": 12,
   "metadata": {},
   "outputs": [
    {
     "name": "stdout",
     "output_type": "stream",
     "text": [
      "Database acme created\n",
      "Creating table (logs) "
     ]
    }
   ],
   "source": [
    "# setup cell\n",
    "\n",
    "from mysql.connector import errorcode\n",
    "\n",
    "DB_NAME = 'acme'\n",
    "\n",
    "TABLES = {}\n",
    "\n",
    "TABLES['logs'] = (\n",
    "    \"CREATE TABLE `logs` (\"\n",
    "    \"`id` int(11) NOT NULL AUTO_INCREMENT,\"\n",
    "    \"`text` varchar(250) NOT NULL,\"\n",
    "    \"`user` varchar(250) NOT NULL,\"\n",
    "    \"`created` datetime NOT NULL DEFAULT CURRENT_TIMESTAMP,\"\n",
    "    \"PRIMARY KEY (`id`)\"\n",
    "    \") ENGINE=InnoDB\"\n",
    ")\n",
    "\n",
    "def create_database():\n",
    "    cursor.execute(\"CREATE DATABASE IF NOT EXISTS {} DEFAULT CHARACTER SET 'utf8'\".format(DB_NAME))\n",
    "    print(\"Database {} created\".format(DB_NAME))\n",
    "    \n",
    "def create_tables():\n",
    "    cursor.execute(\"USE {}\".format(DB_NAME))\n",
    "    for table_name in TABLES:\n",
    "        table_description = TABLES[table_name]\n",
    "        try:\n",
    "            print(\"Creating table ({}) \".format(table_name),end=\"\")\n",
    "            cursor.execute(table_description)\n",
    "        except mysql.connector.Error as err:\n",
    "            if err.errno == errorcode.ER_TABLE_EXISTS_ERROR:\n",
    "                print(\"Already Exists\")\n",
    "            else:\n",
    "                print(err.msg)\n",
    "                \n",
    "                \n",
    "create_database()\n",
    "create_tables()"
   ]
  },
  {
   "cell_type": "code",
   "execution_count": 14,
   "metadata": {},
   "outputs": [],
   "source": [
    "# reset cursor with database name\n",
    "\n",
    "config = {\n",
    "    'user': 'root',\n",
    "    'password': 'root@123',\n",
    "    'host': 'localhost',\n",
    "    'database':'acme'\n",
    "}\n",
    "\n",
    "db = mysql.connector.connect(**config)\n",
    "cursor = db.cursor(buffered=True)"
   ]
  },
  {
   "cell_type": "code",
   "execution_count": 15,
   "metadata": {},
   "outputs": [],
   "source": [
    "# main functions to do Create Read Update Delete (CRUD) operations"
   ]
  },
  {
   "cell_type": "code",
   "execution_count": 16,
   "metadata": {},
   "outputs": [
    {
     "name": "stdout",
     "output_type": "stream",
     "text": [
      "Added log 1\n",
      "Added log 2\n",
      "Added log 3\n",
      "Added log 4\n",
      "Added log 5\n"
     ]
    }
   ],
   "source": [
    "# Create\n",
    "def add_log(text,user):\n",
    "    sql = (\"INSERT INTO logs(text, user) VALUES (%s,%s)\")\n",
    "    cursor.execute(sql,(text,user,))\n",
    "    db.commit()\n",
    "    log_id = cursor.lastrowid\n",
    "    print(\"Added log {}\".format(log_id))\n",
    "    \n",
    "add_log(\"This is log one\",\"Andy\")\n",
    "add_log(\"This is log two\",\"Brad\")\n",
    "add_log(\"This is log three\",\"Cris\")\n",
    "add_log(\"This is log four\",\"Dave\")\n",
    "add_log(\"This is log five\",\"Eva\")"
   ]
  },
  {
   "cell_type": "code",
   "execution_count": 6,
   "metadata": {},
   "outputs": [
    {
     "name": "stdout",
     "output_type": "stream",
     "text": [
      "This is log one\n",
      "This is log two\n",
      "This is log three\n",
      "This is log four\n",
      "This is log five\n",
      "2\n",
      "This is log two\n",
      "Brad\n",
      "2021-08-19 13:18:27\n"
     ]
    }
   ],
   "source": [
    "# Read\n",
    "\n",
    "## Get all logs\n",
    "def get_logs():\n",
    "    sql = (\"SELECT * FROM logs ORDER BY created DESC\")\n",
    "    cursor.execute(sql)\n",
    "    result = cursor.fetchall()\n",
    "    \n",
    "    for row in result:\n",
    "        print(row[1])\n",
    "\n",
    "## Get only one log\n",
    "def get_log(id):\n",
    "    sql = (\"SELECT * FROM logs WHERE id= %s\")\n",
    "    cursor.execute(sql,(id,))\n",
    "    result = cursor.fetchone()\n",
    "    \n",
    "    for row in result:\n",
    "        print(row)\n",
    "        \n",
    "get_logs()\n",
    "get_log(2)"
   ]
  },
  {
   "cell_type": "code",
   "execution_count": 17,
   "metadata": {},
   "outputs": [
    {
     "name": "stdout",
     "output_type": "stream",
     "text": [
      "Pre-update: \n",
      "This is log one\n",
      "This is log two\n",
      "This is log three\n",
      "This is log four\n",
      "This is log five\n",
      "Log updated\n",
      "This is log one\n",
      "Updated log\n",
      "This is log three\n",
      "This is log four\n",
      "This is log five\n"
     ]
    }
   ],
   "source": [
    "# Update\n",
    "\n",
    "def update_log(id,text):\n",
    "    sql = (\"UPDATE logs SET text = %s WHERE id = %s\")\n",
    "    cursor.execute(sql,(text,id,))\n",
    "    db.commit()\n",
    "    print(\"Log updated\")\n",
    "\n",
    "print(\"Pre-update: \")\n",
    "get_logs()\n",
    "update_log(2,'Updated log')\n",
    "get_logs()"
   ]
  },
  {
   "cell_type": "code",
   "execution_count": 18,
   "metadata": {},
   "outputs": [
    {
     "name": "stdout",
     "output_type": "stream",
     "text": [
      "Pre-delete: \n",
      "This is log one\n",
      "Updated log\n",
      "This is log three\n",
      "This is log four\n",
      "This is log five\n",
      "Log removed\n",
      "This is log one\n",
      "This is log three\n",
      "This is log four\n",
      "This is log five\n"
     ]
    }
   ],
   "source": [
    "# Delete\n",
    "\n",
    "def delete_log(id):\n",
    "    sql = (\"DELETE FROM logs WHERE id = %s\")\n",
    "    cursor.execute(sql,(id,))\n",
    "    db.commit()\n",
    "    print(\"Log removed\")\n",
    "    \n",
    "print(\"Pre-delete: \")\n",
    "get_logs()\n",
    "delete_log(2)\n",
    "get_logs()"
   ]
  },
  {
   "cell_type": "code",
   "execution_count": null,
   "metadata": {},
   "outputs": [],
   "source": []
  }
 ],
 "metadata": {
  "kernelspec": {
   "display_name": "Python 3",
   "language": "python",
   "name": "python3"
  },
  "language_info": {
   "codemirror_mode": {
    "name": "ipython",
    "version": 3
   },
   "file_extension": ".py",
   "mimetype": "text/x-python",
   "name": "python",
   "nbconvert_exporter": "python",
   "pygments_lexer": "ipython3",
   "version": "3.8.3"
  }
 },
 "nbformat": 4,
 "nbformat_minor": 4
}
